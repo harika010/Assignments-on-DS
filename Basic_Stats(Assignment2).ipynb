{
 "cells": [
  {
   "cell_type": "markdown",
   "metadata": {
    "id": "nkx2bhwGAOJq"
   },
   "source": [
    "**Estimation** **And** **Confidence** **Intervals**"
   ]
  },
  {
   "cell_type": "code",
   "execution_count": 1,
   "metadata": {
    "id": "pONACIIsAX6L"
   },
   "outputs": [],
   "source": [
    "import pandas as pd\n",
    "import numpy as np"
   ]
  },
  {
   "cell_type": "code",
   "execution_count": 2,
   "metadata": {
    "id": "HBYO2EFvA1cH"
   },
   "outputs": [],
   "source": [
    "Data=[1.13, 1.55, 1.43, 0.92, 1.25, 1.36, 1.32, 0.85, 1.07, 1.48, 1.20, 1.33, 1.18, 1.22, 1.29]"
   ]
  },
  {
   "cell_type": "code",
   "execution_count": 3,
   "metadata": {
    "colab": {
     "base_uri": "https://localhost:8080/"
    },
    "id": "GqsLw_V9BBAa",
    "outputId": "020a88a7-d6f9-4ca9-922f-a11686562c99"
   },
   "outputs": [
    {
     "name": "stdout",
     "output_type": "stream",
     "text": [
      "[1.13, 1.55, 1.43, 0.92, 1.25, 1.36, 1.32, 0.85, 1.07, 1.48, 1.2, 1.33, 1.18, 1.22, 1.29]\n"
     ]
    }
   ],
   "source": [
    "print(Data)"
   ]
  },
  {
   "cell_type": "code",
   "execution_count": 7,
   "metadata": {
    "colab": {
     "base_uri": "https://localhost:8080/"
    },
    "id": "eJgkqrJmBC0w",
    "outputId": "22f2e62b-21e7-4a8e-9f17-cbb145f61021"
   },
   "outputs": [
    {
     "data": {
      "text/plain": [
       "(0.7579801399989947, 1.7193531933343384)"
      ]
     },
     "execution_count": 7,
     "metadata": {},
     "output_type": "execute_result"
    }
   ],
   "source": [
    "#Data having 99% Confidence Interval\n",
    "from scipy import stats\n",
    "stats.norm.interval(0.99,loc=np.mean(Data),scale=np.std(Data))\n"
   ]
  },
  {
   "cell_type": "code",
   "execution_count": 8,
   "metadata": {
    "colab": {
     "base_uri": "https://localhost:8080/"
    },
    "id": "18KQNtFIBiZU",
    "outputId": "22cdffc6-9feb-4a18-e809-bcdc330b686b"
   },
   "outputs": [
    {
     "data": {
      "text/plain": [
       "(0.6831453079923472, 1.7941880253409859)"
      ]
     },
     "execution_count": 8,
     "metadata": {},
     "output_type": "execute_result"
    }
   ],
   "source": [
    "#Sample Standard Deviation\n",
    "stats.t.interval(0.99,14,loc=np.mean(Data),scale=np.std(Data))\n",
    "#here no of observations is less than 30 and we taken Sample So we use t-distribution"
   ]
  },
  {
   "cell_type": "code",
   "execution_count": 13,
   "metadata": {
    "colab": {
     "base_uri": "https://localhost:8080/"
    },
    "id": "f7ggop99CmhK",
    "outputId": "d16fcfe4-6f36-489c-b43a-6bde165d3cb1"
   },
   "outputs": [
    {
     "data": {
      "text/plain": [
       "(0.7235008059568865, 1.7538325273764466)"
      ]
     },
     "execution_count": 13,
     "metadata": {},
     "output_type": "execute_result"
    }
   ],
   "source": [
    "#Population Standard Deviation\n",
    "stats.norm.interval(0.99,loc=np.mean(Data),scale=0.2)"
   ]
  }
 ],
 "metadata": {
  "colab": {
   "provenance": []
  },
  "kernelspec": {
   "display_name": "Python 3 (ipykernel)",
   "language": "python",
   "name": "python3"
  },
  "language_info": {
   "codemirror_mode": {
    "name": "ipython",
    "version": 3
   },
   "file_extension": ".py",
   "mimetype": "text/x-python",
   "name": "python",
   "nbconvert_exporter": "python",
   "pygments_lexer": "ipython3",
   "version": "3.12.4"
  }
 },
 "nbformat": 4,
 "nbformat_minor": 4
}
