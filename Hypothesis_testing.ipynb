{
 "cells": [
  {
   "cell_type": "markdown",
   "id": "b464b23e-d54d-46da-a815-2692199ad225",
   "metadata": {},
   "source": [
    "## Hypothesis Testing"
   ]
  },
  {
   "cell_type": "code",
   "execution_count": 71,
   "id": "242a9774-77d8-42c5-9400-dcb17deb531b",
   "metadata": {},
   "outputs": [],
   "source": [
    "import pandas as pd\n",
    "import numpy as np"
   ]
  },
  {
   "cell_type": "code",
   "execution_count": 73,
   "id": "18643ec0-9fb8-430f-b9e9-dedf2471e61c",
   "metadata": {},
   "outputs": [],
   "source": [
    "Null_Hypothesis= \"There is insufficient evidence to support the restaurant owners' claim.\"\n",
    "Alternative_Hypothesis= \"There is strong evidence to support the restaurant owners' claim that the weekly operating costs are higher than the model suggests.\""
   ]
  },
  {
   "cell_type": "code",
   "execution_count": 75,
   "id": "fcdc3433-17a0-493b-a5ad-ce4e9b2fd8dc",
   "metadata": {},
   "outputs": [],
   "source": [
    "#Given Data\n",
    "sample_mean=3050 #mean of weekly cost from sample\n",
    "x=600 #No of units produced\n",
    "fixed_cost=1000 #Fixed cost in the model\n",
    "variable_cost_per_unit=5 #Variable cost per unit\n",
    "n=25 #Sample size"
   ]
  },
  {
   "cell_type": "code",
   "execution_count": 77,
   "id": "93139ff6-e749-4809-b310-0b820369cfb6",
   "metadata": {},
   "outputs": [],
   "source": [
    "#Calculating theoretical mean for the weakly cost\n",
    "theoretical_mean=fixed_cost+variable_cost_per_unit*x"
   ]
  },
  {
   "cell_type": "code",
   "execution_count": 79,
   "id": "4f64d9ab-abb8-4c44-8c7c-6be60e3f22f6",
   "metadata": {},
   "outputs": [],
   "source": [
    "sigma=variable_cost_per_unit*25 #5*std_of units produced"
   ]
  },
  {
   "cell_type": "code",
   "execution_count": 81,
   "id": "44fe908a-8cba-4ca1-9ed9-21723123e507",
   "metadata": {},
   "outputs": [],
   "source": [
    "t_statistic=(sample_mean-theoretical_mean)/(sigma/np.sqrt(n)) #finding t_stats"
   ]
  },
  {
   "cell_type": "code",
   "execution_count": 83,
   "id": "6b176097-b530-4478-afd7-7e3bced9c01b",
   "metadata": {},
   "outputs": [],
   "source": [
    "#finding critical_value for alpha=0.05\n",
    "from scipy import stats\n",
    "alpha=0.05\n",
    "critical_value=stats.norm.ppf(1-alpha)"
   ]
  },
  {
   "cell_type": "code",
   "execution_count": 85,
   "id": "cd6c3bc6-7ba2-478c-b96e-e34cccc1eb40",
   "metadata": {},
   "outputs": [
    {
     "name": "stdout",
     "output_type": "stream",
     "text": [
      "Sample Mean: 3050\n",
      "Theoretical Mean: 4000\n",
      "Test Statistic (t): -38.0\n",
      "Critical Value: 1.6448536269514722\n"
     ]
    }
   ],
   "source": [
    "print(f\"Sample Mean: {sample_mean}\")\n",
    "print(f\"Theoretical Mean: {theoretical_mean}\")\n",
    "print(f\"Test Statistic (t): {t_statistic}\")\n",
    "print(f\"Critical Value: {critical_value}\")\n"
   ]
  },
  {
   "cell_type": "code",
   "execution_count": 87,
   "id": "e6ef37a5-7657-4bfc-af14-c4a30cf76e70",
   "metadata": {},
   "outputs": [
    {
     "name": "stdout",
     "output_type": "stream",
     "text": [
      "There is insufficient evidence to support the restaurant owners' claim.\n"
     ]
    }
   ],
   "source": [
    "if t_statistic>critical_value:\n",
    "    print(Alternative_Hypothesis)\n",
    "else:\n",
    "    print(Null_Hypothesis)"
   ]
  },
  {
   "cell_type": "markdown",
   "id": "5dbcaec6-6e9e-4328-be47-eb9dce196f9d",
   "metadata": {},
   "source": [
    "### Conclusion : \n",
    "##### Here t_stats<t_critical_value\n",
    "So Accept Null_hypothesis(There is no sufficient evidence to support restaurant owners Claim)"
   ]
  },
  {
   "cell_type": "code",
   "execution_count": null,
   "id": "71ae0619-08a5-4ae7-b336-28a472d48bc8",
   "metadata": {},
   "outputs": [],
   "source": []
  }
 ],
 "metadata": {
  "kernelspec": {
   "display_name": "Python 3 (ipykernel)",
   "language": "python",
   "name": "python3"
  },
  "language_info": {
   "codemirror_mode": {
    "name": "ipython",
    "version": 3
   },
   "file_extension": ".py",
   "mimetype": "text/x-python",
   "name": "python",
   "nbconvert_exporter": "python",
   "pygments_lexer": "ipython3",
   "version": "3.12.4"
  }
 },
 "nbformat": 4,
 "nbformat_minor": 5
}
